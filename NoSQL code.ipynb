{
 "cells": [
  {
   "cell_type": "markdown",
   "metadata": {},
   "source": [
    "# Constructing 3 collections"
   ]
  },
  {
   "cell_type": "code",
   "execution_count": null,
   "metadata": {},
   "outputs": [],
   "source": [
    "db.ambulanceDispatch.drop();\n",
    "\n",
    "db.ambulanceDispatch.insert({\"_id\": 1, \"dispatchTime\": new Date(\"2024-02-16T09:49:00Z\"), \"incidentSeverity\": \"Medium\"});\n",
    "db.ambulanceDispatch.insert({\"_id\": 2, \"dispatchTime\": new Date(\"2024-03-10T21:01:00Z\"), \"incidentSeverity\": \"High\"});\n",
    "db.ambulanceDispatch.insert({\"_id\": 3, \"dispatchTime\": new Date(\"2024-01-08T15:47:00Z\"), \"incidentSeverity\": \"Low\"});\n",
    "db.ambulanceDispatch.insert({\"_id\": 4, \"dispatchTime\": new Date(\"2024-02-11T10:56:00Z\"), \"incidentSeverity\": \"Low\"});\n",
    "db.ambulanceDispatch.insert({\"_id\": 5, \"dispatchTime\": new Date(\"2024-01-28T21:24:00Z\"), \"incidentSeverity\": \"High\"});\n",
    "db.ambulanceDispatch.insert({\"_id\": 6, \"dispatchTime\": new Date(\"2024-01-28T21:24:00Z\"), \"incidentSeverity\": \"High\"});\n",
    "db.ambulanceDispatch.insert({\"_id\": 7, \"dispatchTime\": new Date(\"2024-01-28T21:24:00Z\"), \"incidentSeverity\": \"High\"});\n",
    "db.ambulanceDispatch.insert({\"_id\": 8, \"dispatchTime\": new Date(\"2024-01-28T21:24:00Z\"), \"incidentSeverity\": \"Low\"});\n",
    "db.ambulanceDispatch.insert({\"_id\": 9, \"dispatchTime\": new Date(\"2024-01-28T21:24:00Z\"), \"incidentSeverity\": \"Medium\"});\n",
    "db.ambulanceDispatch.insert({\"_id\": 10, \"dispatchTime\": new Date(\"2024-02-16T09:49:00Z\"), \"incidentSeverity\": \"Low\"});\n",
    "db.ambulanceDispatch.insert({\"_id\": 11, \"dispatchTime\": new Date(\"2024-03-10T21:01:00Z\"), \"incidentSeverity\": \"Medium\"});\n",
    "db.ambulanceDispatch.insert({\"_id\": 12, \"dispatchTime\": new Date(\"2024-01-08T15:47:00Z\"), \"incidentSeverity\": \"Medium\"});\n",
    "db.ambulanceDispatch.insert({\"_id\": 13, \"dispatchTime\": new Date(\"2024-02-11T10:56:00Z\"), \"incidentSeverity\": \"Low\"});\n",
    "db.ambulanceDispatch.insert({\"_id\": 14, \"dispatchTime\": new Date(\"2024-01-28T21:24:00Z\"), \"incidentSeverity\": \"High\"});\n",
    "db.ambulanceDispatch.insert({\"_id\": 15, \"dispatchTime\": new Date(\"2024-01-28T21:24:00Z\"), \"incidentSeverity\": \"Low\"});\n",
    "db.ambulanceDispatch.insert({\"_id\": 16, \"dispatchTime\": new Date(\"2024-01-28T21:24:00Z\"), \"incidentSeverity\": \"High\"});\n",
    "db.ambulanceDispatch.insert({\"_id\": 17, \"dispatchTime\": new Date(\"2024-01-28T21:24:00Z\"), \"incidentSeverity\": \"Low\"});\n",
    "db.ambulanceDispatch.insert({\"_id\": 18, \"dispatchTime\": new Date(\"2024-01-28T21:24:00Z\"), \"incidentSeverity\": \"High\"});\n",
    "db.ambulanceDispatch.insert({\"_id\": 19, \"dispatchTime\": new Date(\"2024-02-16T09:49:00Z\"), \"incidentSeverity\": \"High\"});\n",
    "db.ambulanceDispatch.insert({\"_id\": 20, \"dispatchTime\": new Date(\"2024-02-16T09:49:00Z\"), \"incidentSeverity\": \"Low\"});\n"
   ]
  },
  {
   "cell_type": "code",
   "execution_count": null,
   "metadata": {},
   "outputs": [],
   "source": [
    "db.nurse.drop();  \n",
    "\n",
    "db.nurse.insertMany([\n",
    "    {_id: 1, name: \"Alex Reed\", qualifications: \"RN, BSN\", shift: \"Day\"},\n",
    "    {_id: 2, name: \"Jamie Park\", qualifications: \"LPN\", shift: \"Night\"},\n",
    "    {_id: 3, name: \"Casey Jordan\", qualifications: \"RN, MSN\", shift: \"Evening\"},\n",
    "    {_id: 4, name: \"Jordan Kline\", qualifications: \"RN, BSN\", shift: \"Day\"},\n",
    "    {_id: 5, name: \"Sam Rivera\", qualifications: \"LPN\", shift: \"Night\"},\n",
    "    {_id: 6, name: \"Taylor Quinn\", qualifications: \"RN, BSN\", shift: \"Evening\"},\n",
    "    {_id: 7, name: \"Morgan Lee\", qualifications: \"RN, MSN\", shift: \"Day\"},\n",
    "    {_id: 8, name: \"Cameron Bailey\", qualifications: \"LPN\", shift: \"Night\"},\n",
    "    {_id: 9, name: \"Drew Ellis\", qualifications: \"RN, PhD\", shift: \"Evening\"},\n",
    "    {_id: 10, name: \"Jordan Casey\", qualifications: \"RN, BSN\", shift: \"Day\"},\n",
    "    {_id: 11, name: \"Alexis Kim\", qualifications: \"LPN\", shift: \"Night\"},\n",
    "    {_id: 12, name: \"Pat Morgan\", qualifications: \"RN, MSN\", shift: \"Evening\"},\n",
    "    {_id: 13, name: \"Casey Lane\", qualifications: \"RN, BSN\", shift: \"Day\"},\n",
    "    {_id: 14, name: \"Jamie Brook\", qualifications: \"LPN\", shift: \"Night\"},\n",
    "    {_id: 15, name: \"Jordan Smith\", qualifications: \"RN, PhD\", shift: \"Evening\"},\n",
    "    {_id: 16, name: \"Taylor Reed\", qualifications: \"RN, BSN\", shift: \"Day\"},\n",
    "    {_id: 17, name: \"Morgan Park\", qualifications: \"LPN\", shift: \"Night\"},\n",
    "    {_id: 18, name: \"Cameron Jordan\", qualifications: \"RN, MSN\", shift: \"Evening\"},\n",
    "    {_id: 19, name: \"Drew Kline\", qualifications: \"RN, BSN\", shift: \"Day\"},\n",
    "    {_id: 20, name: \"Sam Quinn\", qualifications: \"LPN\", shift: \"Night\"}\n",
    "]);\n"
   ]
  },
  {
   "cell_type": "code",
   "execution_count": null,
   "metadata": {},
   "outputs": [],
   "source": [
    "db.erTreatment.drop();  \n",
    "\n",
    "db.erTreatment.insertMany([\n",
    "    {_id: 501, type: \"Medication\", time: new Date(\"2024-03-25T09:00:00Z\"), outcome: \"Stabilized\", patientID: 101},\n",
    "    {_id: 502, type: \"Surgery\", time: new Date(\"2024-03-25T10:30:00Z\"), outcome: \"Recovering\", patientID: 105},\n",
    "    {_id: 503, type: \"Physical Therapy\", time: new Date(\"2024-03-25T11:15:00Z\"), outcome: \"Improved\", patientID: 103},\n",
    "    {_id: 504, type: \"Casting\", time: new Date(\"2024-03-25T12:00:00Z\"), outcome: \"Recovering\", patientID: 108},\n",
    "    {_id: 505, type: \"Stitching\", time: new Date(\"2024-03-25T13:30:00Z\"), outcome: \"Healing\", patientID: 112},\n",
    "    {_id: 506, type: \"Medication\", time: new Date(\"2024-03-25T14:45:00Z\"), outcome: \"Stabilized\", patientID: 101},\n",
    "    {_id: 507, type: \"Surgery\", time: new Date(\"2024-03-25T15:10:00Z\"), outcome: \"Recovering\", patientID: 115},\n",
    "    {_id: 508, type: \"Medication\", time: new Date(\"2024-03-25T16:25:00Z\"), outcome: \"Improved\", patientID: 118},\n",
    "    {_id: 509, type: \"Oxygen Therapy\", time: new Date(\"2024-03-25T17:40:00Z\"), outcome: \"Stabilized\", patientID: 120},\n",
    "    {_id: 510, type: \"Medication\", time: new Date(\"2024-03-25T18:55:00Z\"), outcome: \"Stabilized\", patientID: 104},\n",
    "    {_id: 511, type: \"Physical Therapy\", time: new Date(\"2024-03-25T19:05:00Z\"), outcome: \"Improved\", patientID: 107},\n",
    "    {_id: 512, type: \"Surgery\", time: new Date(\"2024-03-25T20:15:00Z\"), outcome: \"Recovering\", patientID: 110},\n",
    "    {_id: 513, type: \"Casting\", time: new Date(\"2024-03-25T21:30:00Z\"), outcome: \"Recovering\", patientID: 113},\n",
    "    {_id: 514, type: \"Stitching\", time: new Date(\"2024-03-25T22:45:00Z\"), outcome: \"Healing\", patientID: 116},\n",
    "    {_id: 515, type: \"Medication\", time: new Date(\"2024-03-25T23:50:00Z\"), outcome: \"Improved\", patientID: 119},\n",
    "    {_id: 516, type: \"Burn Treatment\", time: new Date(\"2024-03-26T00:05:00Z\"), outcome: \"Healing\", patientID: 102},\n",
    "    {_id: 517, type: \"Medication\", time: new Date(\"2024-03-26T01:10:00Z\"), outcome: \"Improved\", patientID: 106},\n",
    "    {_id: 518, type: \"Oxygen Therapy\", time: new Date(\"2024-03-26T02:20:00Z\"), outcome: \"Stabilized\", patientID: 109},\n",
    "    {_id: 519, type: \"Medication\", time: new Date(\"2024-03-26T03:35:00Z\"), outcome: \"Stabilized\", patientID: 111},\n",
    "    {_id: 520, type: \"Physical Therapy\", time: new Date(\"2024-03-26T04:40:00Z\"), outcome: \"Improved\", patientID: 114}\n",
    "]); \n"
   ]
  },
  {
   "cell_type": "markdown",
   "metadata": {},
   "source": [
    "# Query 1 (Simple Query): find the records of the first 5 Medication treatments\n",
    "\n"
   ]
  },
  {
   "cell_type": "code",
   "execution_count": null,
   "metadata": {},
   "outputs": [],
   "source": [
    "db.erTreatment.find({\"type\":\"Medication\"}).sort({\"time\":1}).limit(5);"
   ]
  },
  {
   "cell_type": "markdown",
   "metadata": {},
   "source": [
    "# Query 2 (Complex Query): Find high-severity incidents in the ambulance dispatch records that occurred on January 28th, 2024, at 9:24 PM."
   ]
  },
  {
   "cell_type": "code",
   "execution_count": null,
   "metadata": {},
   "outputs": [],
   "source": [
    "db. ambulanceDispatch.find(\n",
    "  {$and: [\n",
    "    {\"incidentSeverity\": \"High\"},\n",
    "    {\"dispatchTime\": ISODate(\"2024-01-28T21:24:00Z\")}]\n",
    "  });"
   ]
  },
  {
   "cell_type": "markdown",
   "metadata": {},
   "source": [
    "# Query 3 (Aggregate Method): find the treatment types that occurred more than once."
   ]
  },
  {
   "cell_type": "code",
   "execution_count": null,
   "metadata": {},
   "outputs": [],
   "source": [
    "db.erTreatment.aggregate([\n",
    "  {$group: {_id: \"$type\" , count: {$sum: 1}}}, // group by type and count occurrences\n",
    "  {$match: {count: {$gt: 1}}}, // filter types having more than one occurrence\n",
    "  {$sort: {count: -1}} // sort by count in descending order\n",
    "  ]);"
   ]
  }
 ],
 "metadata": {
  "language_info": {
   "name": "python"
  }
 },
 "nbformat": 4,
 "nbformat_minor": 2
}
